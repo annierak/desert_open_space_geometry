{
 "cells": [
  {
   "cell_type": "code",
   "execution_count": 6,
   "metadata": {},
   "outputs": [],
   "source": [
    "import pandas as pd\n",
    "import numpy as np\n",
    "import altair as alt\n",
    "import matplotlib.cm\n",
    "import matplotlib.pyplot as plt"
   ]
  },
  {
   "cell_type": "code",
   "execution_count": 7,
   "metadata": {},
   "outputs": [],
   "source": [
    "wind_angle = np.arctan(4.)\n",
    "wind_mag = 1.\n",
    "fly_mag = 1.5\n",
    "flux_rad = 10.\n",
    "\n",
    "num_flies = 15000\n",
    "heading_angles = np.linspace(4*360./num_flies,4*360,num_flies)*np.pi/180"
   ]
  },
  {
   "cell_type": "code",
   "execution_count": 8,
   "metadata": {},
   "outputs": [],
   "source": [
    "hit_angles = np.arctan((wind_mag*np.sin(wind_angle-heading_angles))/fly_mag)+heading_angles\n",
    "cmap = matplotlib.cm.get_cmap('bwr')\n",
    "colors = cmap(np.linspace(1./num_flies,1,num_flies))"
   ]
  },
  {
   "cell_type": "code",
   "execution_count": 9,
   "metadata": {},
   "outputs": [],
   "source": [
    "from ipywidgets import interactive"
   ]
  },
  {
   "cell_type": "code",
   "execution_count": 10,
   "metadata": {},
   "outputs": [
    {
     "data": {
      "application/vnd.jupyter.widget-view+json": {
       "model_id": "f8aef2043c6b495887c74e1b2e5c6d28",
       "version_major": 2,
       "version_minor": 0
      },
      "text/plain": [
       "interactive(children=(FloatSlider(value=2.0, description='wind_mag', max=4.0, step=0.05), Output(layout=Layout…"
      ]
     },
     "metadata": {},
     "output_type": "display_data"
    }
   ],
   "source": [
    "def f(wind_mag):\n",
    "    global wind_angle,fly_mag\n",
    "    hit_angles = np.arctan((wind_mag*np.sin(wind_angle-heading_angles))/fly_mag)+heading_angles\n",
    "    plt.figure(1,figsize=(8,8))\n",
    "    ax=plt.subplot(2,2,1)\n",
    "    plt.scatter(2*np.cos(heading_angles),2*np.sin(heading_angles),color=colors,alpha=0.01)\n",
    "    plt.scatter(6*np.cos(hit_angles),6*np.sin(hit_angles),color=colors,alpha=0.01)\n",
    "    ax.set_aspect('equal', 'datalim')\n",
    "    ax.set_ylim([-7,7])\n",
    "    ax = plt.subplot(2,2,4,projection='polar')\n",
    "    n,bins,_ = plt.hist(hit_angles,bins=500)\n",
    "    ax.cla()\n",
    "    plt.plot(bins,np.concatenate((n,[n[0]])))\n",
    "    ax.set_yticks([])\n",
    "    ax = plt.subplot(2,2,3)\n",
    "    plt.plot(heading_angles,hit_angles-heading_angles)\n",
    "#     ax.set_yticks([])\n",
    "    ax = plt.subplot(2,2,2,projection='polar')\n",
    "    plt.scatter(heading_angles,hit_angles-heading_angles,color=colors)\n",
    "    plt.ylim([0,np.max(hit_angles-heading_angles)])\n",
    "    ax.set_yticks([])\n",
    "\n",
    "    plt.show()\n",
    "\n",
    "interactive_plot = interactive(f, wind_mag=(0, 4.0,0.05))\n",
    "output = interactive_plot.children[-1]\n",
    "output.layout.height = '500px'\n",
    "interactive_plot"
   ]
  },
  {
   "cell_type": "code",
   "execution_count": 15,
   "metadata": {},
   "outputs": [
    {
     "data": {
      "application/vnd.jupyter.widget-view+json": {
       "model_id": "1f24448c47f34af3a18d37a06b72b388",
       "version_major": 2,
       "version_minor": 0
      },
      "text/plain": [
       "interactive(children=(FloatSlider(value=0.5, description='w', max=4.0, step=0.05), FloatSlider(value=0.5235987…"
      ]
     },
     "metadata": {},
     "output_type": "display_data"
    }
   ],
   "source": [
    "def f(w=0.5,theta_d=np.pi/6.):\n",
    "    n = 10000\n",
    "    theta_0 = np.arctan(1.)\n",
    "    r_1 = 1.5\n",
    "    thetas = np.linspace(360./n,360,n)*np.pi/180\n",
    "    output = (np.arctan(w*np.sin(theta_0-thetas)/r_1)+thetas)%(2*np.pi)\n",
    "    plt.figure(1,figsize=(16,8))\n",
    "    gs = matplotlib.gridspec.GridSpec(2,4)\n",
    "    plt.subplot(gs[0,0]);plt.title('Final vs. Intended Angle')\n",
    "    plt.plot(thetas,output,'o',markersize=0.4)\n",
    "    plt.xlim([0,2*np.pi]);plt.ylim([0,2*np.pi])\n",
    "    \n",
    "    w_vec = np.array([w*np.cos(theta_0),w*np.sin(theta_0)])\n",
    "    r_vec = np.array([r_1*np.cos(theta_d),r_1*np.sin(theta_d)])\n",
    "    wind_par_vec = (np.dot(w_vec,r_vec))/(r_1**2)*r_vec\n",
    "    w_perp_vec = w_vec - wind_par_vec\n",
    "    heading_final_vec = r_vec+w_perp_vec\n",
    "#     final_angle_demo = np.arctan(heading_final_vec[1]/heading_final_vec[0])\n",
    "    final_angle_demo = (np.arctan(w*np.sin(theta_0-theta_d)/r_1)+theta_d)%(2*np.pi)\n",
    "    \n",
    "    input_demo=plt.plot([theta_d,theta_d],[0,final_angle_demo%(2*np.pi)],'r',label='intended angle')\n",
    "    output_demo=plt.plot([0,theta_d],[final_angle_demo%(2*np.pi),final_angle_demo%(2*np.pi)],'g',label='final angle',)\n",
    "    plt.legend(bbox_to_anchor=(0.6,0.9))\n",
    "    \n",
    "    plt.subplot(gs[1,0]);plt.title('Derivative')\n",
    "    deriv = np.diff(output)[np.abs(np.diff(output))<1]\n",
    "    plt.plot(thetas[:-2],deriv/(np.max(deriv))*2*np.pi,color='b')\n",
    "    plt.plot(thetas,np.zeros_like(thetas),color='y')\n",
    "    \n",
    "    ax=plt.subplot(gs[0,1],projection='polar') \n",
    "    n,bins,_ = plt.hist(output%(2*np.pi),bins=500)\n",
    "    ax.cla()\n",
    "    plt.plot(bins,np.concatenate((n,[n[0]])))\n",
    "    ax.set_yticks([])\n",
    "    _,ymax = ax.get_ylim()\n",
    "    plt.plot([final_angle_demo,0],[ymax,0],'g');plt.title('Final Angle Histogram',x=0.5,y=1.1)\n",
    "    \n",
    "    ax = plt.subplot(gs[1,1])\n",
    "    plt.plot(bins,np.concatenate((n,[n[0]])))\n",
    "    ax.set_yticks([])\n",
    "    plt.xlim([0,2*np.pi])\n",
    "    _,ymax = ax.get_ylim()\n",
    "    \n",
    "    plt.plot([final_angle_demo,final_angle_demo],[0,ymax],'g',label='final angle')\n",
    "    plt.legend(bbox_to_anchor=(0.9,1.12))\n",
    "    \n",
    "    \n",
    "    plt.subplot(gs[:,2:4]);plt.title('Vector Summation for Theta_d')\n",
    "    original_heading = plt.arrow(0,0,r_1*np.cos(theta_d),r_1*np.sin(theta_d), head_width=0.05, head_length=0.1, fc='r', ec='r',\n",
    "                                length_includes_head=True)\n",
    "   \n",
    "    wind_vector = plt.arrow(*r_vec,*w_vec,\n",
    "                            head_width=0.05, head_length=0.1, fc='b', ec='b',length_includes_head=True)\n",
    "#     wind_par = plt.arrow(*r_vec,*wind_par_vec, \n",
    "#                             head_width=0.05, head_length=0.1, fc='orange', ec='orange')\n",
    "    wind_perp = plt.arrow(*r_vec,*w_perp_vec,\n",
    "                            head_width=0.05, head_length=0.1, fc='dodgerblue', ec='dodgerblue',length_includes_head=True)\n",
    "    wind_par = plt.arrow(*r_vec,*wind_par_vec,\n",
    "                            head_width=0.05, head_length=0.1, fc='dodgerblue', ec='dodgerblue',length_includes_head=True)\n",
    "    heading_final = plt.arrow(0,0,*heading_final_vec,\n",
    "                             head_width=0.05, head_length=0.1, fc='g', ec='g',length_includes_head=True)\n",
    "    \n",
    "    plt.ylim([-2,3]);plt.xlim([-2,3])\n",
    "    plt.legend([original_heading,wind_vector,wind_perp,wind_par,heading_final],\n",
    "                   ['intended velocity','wind vector','wind perp','wind par','final velocity'],\n",
    "                    bbox_to_anchor=(1.4,0.5))\n",
    "    \n",
    "    plt.show()\n",
    "interactive_plot = interactive(f, w=(0, 4.0,0.05),theta_d=(0,2*np.pi,0.05))\n",
    "output = interactive_plot.children[-1]\n",
    "output.layout.height = '500px'\n",
    "interactive_plot"
   ]
  },
  {
   "cell_type": "code",
   "execution_count": null,
   "metadata": {},
   "outputs": [],
   "source": []
  }
 ],
 "metadata": {
  "kernelspec": {
   "display_name": "be103",
   "language": "python",
   "name": "be103"
  },
  "language_info": {
   "codemirror_mode": {
    "name": "ipython",
    "version": 3
   },
   "file_extension": ".py",
   "mimetype": "text/x-python",
   "name": "python",
   "nbconvert_exporter": "python",
   "pygments_lexer": "ipython3",
   "version": "3.7.0"
  }
 },
 "nbformat": 4,
 "nbformat_minor": 2
}
