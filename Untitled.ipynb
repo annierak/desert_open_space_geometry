{
 "cells": [
  {
   "cell_type": "markdown",
   "metadata": {},
   "source": [
    "This is a plot of the LHS and RHS of the equation whose equality sets the derivative of the angle input-output map to 0."
   ]
  },
  {
   "cell_type": "code",
   "execution_count": 1,
   "metadata": {},
   "outputs": [],
   "source": [
    "import numpy as np\n",
    "import matplotlib.pyplot as plt\n",
    "from ipywidgets import interactive"
   ]
  },
  {
   "cell_type": "code",
   "execution_count": 4,
   "metadata": {},
   "outputs": [
    {
     "data": {
      "application/vnd.jupyter.widget-view+json": {
       "model_id": "e82f4e43aaf344839fbfc180d4bf765b",
       "version_major": 2,
       "version_minor": 0
      },
      "text/plain": [
       "interactive(children=(FloatSlider(value=1.5, description='w', max=2.0, min=1.0, step=0.05), Output()), _dom_cl…"
      ]
     },
     "metadata": {},
     "output_type": "display_data"
    }
   ],
   "source": [
    "def plot_derivative_functions(w):\n",
    "    theta_0 = np.pi/4\n",
    "    r = 1.5\n",
    "    x = np.linspace(0,2*np.pi,100)\n",
    "    lhs = (w/r)*np.cos(theta_0-x)\n",
    "    rhs = 1+ (w**2/(r**2))*(np.sin(theta_0-x)**2)\n",
    "    plt.figure()\n",
    "    plt.plot(x,lhs,label='LHS')\n",
    "    plt.plot(x,rhs,label='RHS')\n",
    "    plt.legend()\n",
    "    plt.show()\n",
    "    \n",
    "interactive_plot = interactive(plot_derivative_functions, w=(1.0, 2.0,0.05),continuous_update=False)\n",
    "output = interactive_plot.children[-1]\n",
    "interactive_plot\n",
    "    "
   ]
  },
  {
   "cell_type": "code",
   "execution_count": null,
   "metadata": {},
   "outputs": [],
   "source": []
  }
 ],
 "metadata": {
  "kernelspec": {
   "display_name": "be103",
   "language": "python",
   "name": "be103"
  },
  "language_info": {
   "codemirror_mode": {
    "name": "ipython",
    "version": 3
   },
   "file_extension": ".py",
   "mimetype": "text/x-python",
   "name": "python",
   "nbconvert_exporter": "python",
   "pygments_lexer": "ipython3",
   "version": "3.7.0"
  }
 },
 "nbformat": 4,
 "nbformat_minor": 2
}
