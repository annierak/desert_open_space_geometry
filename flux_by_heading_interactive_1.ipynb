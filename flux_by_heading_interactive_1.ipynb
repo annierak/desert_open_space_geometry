{
 "cells": [
  {
   "cell_type": "code",
   "execution_count": 4,
   "metadata": {},
   "outputs": [],
   "source": [
    "import pandas as pd\n",
    "import numpy as np\n",
    "import altair as alt\n",
    "import matplotlib.cm\n",
    "import matplotlib.pyplot as plt"
   ]
  },
  {
   "cell_type": "code",
   "execution_count": 5,
   "metadata": {},
   "outputs": [],
   "source": [
    "from ipywidgets import interactive"
   ]
  },
  {
   "cell_type": "code",
   "execution_count": 32,
   "metadata": {},
   "outputs": [
    {
     "data": {
      "application/vnd.jupyter.widget-view+json": {
       "model_id": "a6fa0b99e1764f4cb1ffdd8eb0fad85d",
       "version_major": 2,
       "version_minor": 0
      },
      "text/plain": [
       "interactive(children=(FloatSlider(value=0.5, description='w', max=4.0, step=0.05), FloatSlider(value=0.5235987…"
      ]
     },
     "metadata": {},
     "output_type": "display_data"
    }
   ],
   "source": [
    "def f(w=0.5,theta_d=np.pi/6.):\n",
    "    n = 10000\n",
    "    theta_0 = np.arctan(1.)\n",
    "    r_1 = 1.5\n",
    "    thetas = np.linspace(360./n,360,n)*np.pi/180\n",
    "    output = (np.arctan(w*np.sin(theta_0-thetas)/r_1)+thetas)%(2*np.pi)\n",
    "    plt.figure(1,figsize=(16,8))\n",
    "    gs = matplotlib.gridspec.GridSpec(2,4)\n",
    "    plt.subplot(gs[0,0]);plt.title('Final vs. Intended Angle')\n",
    "    plt.plot(thetas,output,'o',markersize=0.4)\n",
    "    plt.xlim([0,2*np.pi]);plt.ylim([0,2*np.pi])\n",
    "    \n",
    "    w_vec = np.array([w*np.cos(theta_0),w*np.sin(theta_0)])\n",
    "    r_vec = np.array([r_1*np.cos(theta_d),r_1*np.sin(theta_d)])\n",
    "    wind_par_vec = (np.dot(w_vec,r_vec))/(r_1**2)*r_vec\n",
    "    w_perp_vec = w_vec - wind_par_vec\n",
    "    heading_final_vec = r_vec+w_perp_vec\n",
    "#     final_angle_demo = np.arctan(heading_final_vec[1]/heading_final_vec[0])\n",
    "    final_angle_demo = (np.arctan(w*np.sin(theta_0-theta_d)/r_1)+theta_d)%(2*np.pi)\n",
    "    \n",
    "    input_demo=plt.plot([theta_d,theta_d],[0,final_angle_demo%(2*np.pi)],'r',label='intended angle')\n",
    "    output_demo=plt.plot([0,theta_d],[final_angle_demo%(2*np.pi),final_angle_demo%(2*np.pi)],'g',label='final angle',)\n",
    "    plt.legend(bbox_to_anchor=(0.6,0.9))\n",
    "    \n",
    "    plt.subplot(gs[1,0]);plt.title('Derivative')\n",
    "    deriv = np.diff(output)[np.abs(np.diff(output))<1]\n",
    "    plt.plot(thetas[:-2],deriv/(np.max(deriv))*2*np.pi,color='b')\n",
    "    plt.plot(thetas,np.zeros_like(thetas),color='y')\n",
    "    \n",
    "    ax=plt.subplot(gs[0,1],projection='polar') \n",
    "    n,bins,_ = plt.hist(output%(2*np.pi),bins=500)\n",
    "    ax.cla()\n",
    "    plt.plot(bins,np.concatenate((n,[n[0]])))\n",
    "    ax.set_yticks([])\n",
    "    _,ymax = ax.get_ylim()\n",
    "    plt.plot([final_angle_demo,0],[ymax,0],'g');plt.title('Final Angle Histogram',x=0.5,y=1.1)\n",
    "    \n",
    "    ax = plt.subplot(gs[1,1])\n",
    "    plt.plot(bins,np.concatenate((n,[n[0]])))\n",
    "    ax.set_yticks([])\n",
    "    plt.xlim([0,2*np.pi])\n",
    "    _,ymax = ax.get_ylim()\n",
    "    \n",
    "    plt.plot([final_angle_demo,final_angle_demo],[0,ymax],'g',label='final angle')\n",
    "    plt.legend(bbox_to_anchor=(0.9,1.12))\n",
    "    \n",
    "    \n",
    "    plt.subplot(gs[:,2:4]);plt.title('Vector Summation for Theta_d')\n",
    "    original_heading = plt.arrow(0,0,r_1*np.cos(theta_d),r_1*np.sin(theta_d), head_width=0.05, head_length=0.1, fc='r', ec='r',\n",
    "                                length_includes_head=True)\n",
    "   \n",
    "    wind_vector = plt.arrow(*r_vec,*w_vec,\n",
    "                            head_width=0.05, head_length=0.1, fc='b', ec='b',length_includes_head=True)\n",
    "#     wind_par = plt.arrow(*r_vec,*wind_par_vec, \n",
    "#                             head_width=0.05, head_length=0.1, fc='orange', ec='orange')\n",
    "    wind_perp = plt.arrow(*r_vec,*w_perp_vec,\n",
    "                            head_width=0.05, head_length=0.1, fc='dodgerblue', ec='dodgerblue',length_includes_head=True)\n",
    "    heading_final = plt.arrow(0,0,*heading_final_vec,\n",
    "                             head_width=0.05, head_length=0.1, fc='g', ec='g',length_includes_head=True)\n",
    "    \n",
    "    plt.ylim([-2,3]);plt.xlim([-2,3])\n",
    "    plt.legend([original_heading,wind_vector,wind_perp,heading_final],\n",
    "                   ['intended velocity','wind vector','wind perp','final velocity'],\n",
    "                    bbox_to_anchor=(1.4,0.5))\n",
    "    \n",
    "    plt.show()\n",
    "interactive_plot = interactive(f, w=(0, 4.0,0.05),theta_d=(0,2*np.pi,0.05))\n",
    "output = interactive_plot.children[-1]\n",
    "output.layout.height = '500px'\n",
    "interactive_plot"
   ]
  },
  {
   "cell_type": "code",
   "execution_count": null,
   "metadata": {},
   "outputs": [],
   "source": []
  }
 ],
 "metadata": {
  "kernelspec": {
   "display_name": "be103",
   "language": "python",
   "name": "be103"
  },
  "language_info": {
   "codemirror_mode": {
    "name": "ipython",
    "version": 3
   },
   "file_extension": ".py",
   "mimetype": "text/x-python",
   "name": "python",
   "nbconvert_exporter": "python",
   "pygments_lexer": "ipython3",
   "version": "3.7.0"
  }
 },
 "nbformat": 4,
 "nbformat_minor": 2
}
