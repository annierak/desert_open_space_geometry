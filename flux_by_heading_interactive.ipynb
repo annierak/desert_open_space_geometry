{
 "cells": [
  {
   "cell_type": "code",
   "execution_count": 20,
   "metadata": {},
   "outputs": [],
   "source": [
    "import pandas as pd\n",
    "import numpy as np\n",
    "import altair as alt\n",
    "import matplotlib.cm"
   ]
  },
  {
   "cell_type": "code",
   "execution_count": 21,
   "metadata": {},
   "outputs": [],
   "source": [
    "wind_angle = np.arctan(4.)\n",
    "wind_mag = 1.\n",
    "fly_mag = 1.5\n",
    "flux_rad = 10.\n",
    "\n",
    "num_flies = 6000\n",
    "heading_angles = np.linspace(360./num_flies,360,num_flies)*np.pi/180"
   ]
  },
  {
   "cell_type": "code",
   "execution_count": 22,
   "metadata": {},
   "outputs": [],
   "source": [
    "hit_angles = np.arctan((wind_mag*np.sin(wind_angle-heading_angles))/fly_mag)+heading_angles\n",
    "cmap = matplotlib.cm.get_cmap('plasma')\n",
    "colors = cmap(np.linspace(1./num_flies,1,num_flies))"
   ]
  },
  {
   "cell_type": "code",
   "execution_count": null,
   "metadata": {},
   "outputs": [],
   "source": []
  },
  {
   "cell_type": "code",
   "execution_count": 23,
   "metadata": {},
   "outputs": [],
   "source": [
    "import matplotlib.pyplot as plt\n",
    "import numpy as np"
   ]
  },
  {
   "cell_type": "code",
   "execution_count": 24,
   "metadata": {},
   "outputs": [],
   "source": [
    "from ipywidgets import interactive"
   ]
  },
  {
   "cell_type": "code",
   "execution_count": 25,
   "metadata": {},
   "outputs": [
    {
     "data": {
      "application/vnd.jupyter.widget-view+json": {
       "model_id": "3479a173611945a3881dce4eed7d6fb2",
       "version_major": 2,
       "version_minor": 0
      },
      "text/plain": [
       "interactive(children=(FloatSlider(value=0.0, description='m', max=2.0, min=-2.0), FloatSlider(value=0.0, descr…"
      ]
     },
     "metadata": {},
     "output_type": "display_data"
    }
   ],
   "source": [
    "def f(m, b):\n",
    "    plt.figure(2)\n",
    "    x = np.linspace(-10, 10, num=1000)\n",
    "    plt.plot(x, m * x + b)\n",
    "    plt.ylim(-5, 5)\n",
    "    plt.show()\n",
    "\n",
    "interactive_plot = interactive(f, m=(-2.0, 2.0), b=(-3, 3, 0.5))\n",
    "output = interactive_plot.children[-1]\n",
    "output.layout.height = '350px'\n",
    "interactive_plot"
   ]
  },
  {
   "cell_type": "code",
   "execution_count": 26,
   "metadata": {},
   "outputs": [
    {
     "data": {
      "application/vnd.jupyter.widget-view+json": {
       "model_id": "d7cc9d38be7d42c2b9c4a09794144eed",
       "version_major": 2,
       "version_minor": 0
      },
      "text/plain": [
       "interactive(children=(FloatSlider(value=1.0, description='wind_mag', max=2.0, step=0.05), Output(layout=Layout…"
      ]
     },
     "metadata": {},
     "output_type": "display_data"
    }
   ],
   "source": [
    "def f(wind_mag):\n",
    "    global wind_angle,fly_mag\n",
    "    hit_angles = np.arctan((wind_mag*np.sin(wind_angle-heading_angles))/fly_mag)+heading_angles\n",
    "    plt.figure(1,figsize=(16,8))\n",
    "    ax=plt.subplot(1,2,1)\n",
    "    plt.scatter(2*np.cos(heading_angles),2*np.sin(heading_angles),color=colors,alpha=0.01)\n",
    "    plt.scatter(6*np.cos(hit_angles),6*np.sin(hit_angles),color=colors,alpha=0.01)\n",
    "    ax.set_aspect('equal', 'datalim')\n",
    "    ax.set_ylim([-7,7])\n",
    "    ax = plt.subplot(1,2,2,projection='polar')\n",
    "    n,bins,_ = plt.hist(hit_angles,bins=100)\n",
    "    ax.cla()\n",
    "    plt.plot(bins,np.concatenate((n,[n[0]])))\n",
    "    ax.set_yticks([])\n",
    "    plt.show()\n",
    "\n",
    "interactive_plot = interactive(f, wind_mag=(0, 2.0,0.05))\n",
    "output = interactive_plot.children[-1]\n",
    "output.layout.height = '350px'\n",
    "interactive_plot"
   ]
  },
  {
   "cell_type": "code",
   "execution_count": null,
   "metadata": {},
   "outputs": [],
   "source": []
  }
 ],
 "metadata": {
  "kernelspec": {
   "display_name": "be103",
   "language": "python",
   "name": "be103"
  },
  "language_info": {
   "codemirror_mode": {
    "name": "ipython",
    "version": 3
   },
   "file_extension": ".py",
   "mimetype": "text/x-python",
   "name": "python",
   "nbconvert_exporter": "python",
   "pygments_lexer": "ipython3",
   "version": "3.7.0"
  }
 },
 "nbformat": 4,
 "nbformat_minor": 2
}
